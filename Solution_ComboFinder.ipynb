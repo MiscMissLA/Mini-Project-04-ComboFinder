{
  "nbformat": 4,
  "nbformat_minor": 0,
  "metadata": {
    "colab": {
      "provenance": [],
      "authorship_tag": "ABX9TyMMfzTiekmJhD9rKbe9c0+z",
      "include_colab_link": true
    },
    "kernelspec": {
      "name": "python3",
      "display_name": "Python 3"
    },
    "language_info": {
      "name": "python"
    }
  },
  "cells": [
    {
      "cell_type": "markdown",
      "metadata": {
        "id": "view-in-github",
        "colab_type": "text"
      },
      "source": [
        "<a href=\"https://colab.research.google.com/github/MiscMissLA/Mini-Project-04-ComboFinder/blob/main/Solution_ComboFinder.ipynb\" target=\"_parent\"><img src=\"https://colab.research.google.com/assets/colab-badge.svg\" alt=\"Open In Colab\"/></a>"
      ]
    },
    {
      "cell_type": "code",
      "execution_count": 19,
      "metadata": {
        "colab": {
          "base_uri": "https://localhost:8080/"
        },
        "id": "rS94lB-eKBLZ",
        "outputId": "32017978-cf27-48d8-c222-1fba8cb93571"
      },
      "outputs": [
        {
          "output_type": "stream",
          "name": "stdout",
          "text": [
            "There are  52  combos: \n",
            "('p1', 'p10', 'p12', 'p14', 'p2', 'p4', 'p5', 'p6')\n",
            "('p1', 'p11', 'p13', 'p3', 'p4', 'p7', 'p9')\n",
            "('p1', 'p10', 'p13', 'p3', 'p4', 'p5', 'p6', 'p8')\n",
            "('p10', 'p11', 'p14', 'p2', 'p3', 'p4', 'p5', 'p8')\n",
            "('p11', 'p13', 'p2', 'p5', 'p6', 'p8', 'p9')\n",
            "('p10', 'p11', 'p14', 'p2', 'p3', 'p5', 'p9')\n",
            "('p1', 'p12', 'p14', 'p2', 'p3', 'p4', 'p5', 'p6', 'p9')\n",
            "('p1', 'p11', 'p14', 'p2', 'p3', 'p5', 'p6', 'p7', 'p8')\n",
            "('p10', 'p13', 'p14', 'p6', 'p8', 'p9')\n",
            "('p1', 'p13', 'p14', 'p2', 'p3', 'p4', 'p5', 'p6', 'p9')\n",
            "('p1', 'p10', 'p13', 'p3', 'p4', 'p7', 'p9')\n",
            "('p1', 'p14', 'p2', 'p3', 'p5', 'p6', 'p7', 'p8', 'p9')\n",
            "('p10', 'p12', 'p13', 'p3', 'p5', 'p7')\n",
            "('p11', 'p12', 'p3', 'p6', 'p7', 'p9')\n",
            "('p10', 'p11', 'p12', 'p14', 'p2', 'p3', 'p5')\n",
            "('p11', 'p13', 'p14', 'p2', 'p3', 'p4', 'p7')\n",
            "('p1', 'p11', 'p12', 'p13', 'p4', 'p5', 'p6')\n",
            "('p10', 'p11', 'p12', 'p2', 'p4', 'p7')\n",
            "('p1', 'p10', 'p11', 'p3', 'p4', 'p6', 'p7', 'p8')\n",
            "('p1', 'p10', 'p12', 'p2', 'p3', 'p4', 'p8', 'p9')\n",
            "('p1', 'p10', 'p12', 'p13', 'p2', 'p6', 'p8')\n",
            "('p1', 'p12', 'p14', 'p3', 'p4', 'p5', 'p7', 'p8')\n",
            "('p11', 'p13', 'p2', 'p3', 'p4', 'p5', 'p6', 'p7')\n",
            "('p1', 'p11', 'p12', 'p13', 'p14', 'p5')\n",
            "('p11', 'p12', 'p4', 'p7', 'p8', 'p9')\n",
            "('p1', 'p10', 'p12', 'p3', 'p4', 'p5', 'p7', 'p8')\n",
            "('p10', 'p12', 'p2', 'p3', 'p6', 'p7', 'p9')\n",
            "('p13', 'p14', 'p3', 'p4', 'p7', 'p8', 'p9')\n",
            "('p12', 'p13', 'p4', 'p5', 'p8', 'p9')\n",
            "('p10', 'p12', 'p13', 'p14', 'p3', 'p4')\n",
            "('p11', 'p14', 'p6', 'p7', 'p8', 'p9')\n",
            "('p11', 'p12', 'p2', 'p7', 'p8', 'p9')\n",
            "('p10', 'p13', 'p2', 'p5', 'p6', 'p7', 'p8')\n",
            "('p10', 'p13', 'p2', 'p4', 'p5', 'p7', 'p9')\n",
            "('p1', 'p10', 'p11', 'p14', 'p2', 'p4', 'p6', 'p8')\n",
            "('p1', 'p10', 'p12', 'p13', 'p5', 'p9')\n",
            "('p1', 'p10', 'p13', 'p14', 'p2', 'p4', 'p6', 'p8')\n",
            "('p10', 'p12', 'p13', 'p14', 'p2', 'p3', 'p4')\n",
            "('p10', 'p12', 'p13', 'p2', 'p3', 'p9')\n",
            "('p1', 'p12', 'p14', 'p2', 'p3', 'p4', 'p5', 'p6', 'p7')\n",
            "('p11', 'p12', 'p3', 'p5', 'p7', 'p9')\n",
            "('p1', 'p10', 'p12', 'p14', 'p2', 'p3', 'p4', 'p7')\n",
            "('p1', 'p11', 'p12', 'p14', 'p4', 'p6', 'p9')\n",
            "('p12', 'p13', 'p14', 'p3', 'p4', 'p9')\n",
            "('p10', 'p12', 'p13', 'p14', 'p7')\n",
            "('p1', 'p12', 'p13', 'p2', 'p6', 'p8', 'p9')\n",
            "('p1', 'p10', 'p14', 'p4', 'p5', 'p6', 'p7', 'p8')\n",
            "('p10', 'p13', 'p2', 'p3', 'p4', 'p5', 'p6', 'p8')\n",
            "('p10', 'p13', 'p14', 'p2', 'p3', 'p5', 'p9')\n",
            "('p10', 'p13', 'p2', 'p3', 'p4', 'p7', 'p9')\n",
            "('p10', 'p11', 'p2', 'p3', 'p4', 'p6', 'p7', 'p8')\n",
            "('p10', 'p14', 'p2', 'p6', 'p7', 'p8', 'p9')\n"
          ]
        }
      ],
      "source": [
        "import random as r\n",
        "import pandas as pd\n",
        "import string as s\n",
        "\n",
        "productdict = {'p1':10, 'p2':15, 'p3':20, 'p4':25, 'p5':30, 'p6':35, 'p7':50,\n",
        "               'p8':40, 'p9':55, 'p10':60, 'p11':65, 'p12':75, 'p13':70,\n",
        "               'p14':45}\n",
        "upperbound = 310\n",
        "lowerbound = 290\n",
        "resultset = set()\n",
        "\n",
        "\n",
        "for i in range(1000):\n",
        "  s = r.sample(list(productdict.keys()), r.randint(2, len(productdict)-1))\n",
        "  combosum = sum([productdict[i] for i in s])\n",
        "  if (combosum >= lowerbound and combosum <= upperbound):\n",
        "    resultset.add(tuple(sorted(s)))\n",
        "\n",
        "print(\"There are \", len(resultset), \" combos: \")\n",
        "for i in resultset:\n",
        "  print(i)\n",
        "\n"
      ]
    }
  ]
}